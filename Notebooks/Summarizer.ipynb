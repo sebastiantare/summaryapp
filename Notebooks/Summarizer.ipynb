{
 "cells": [
  {
   "cell_type": "code",
   "execution_count": 2,
   "id": "4169bdf5",
   "metadata": {},
   "outputs": [
    {
     "data": {
      "text/plain": [
       "True"
      ]
     },
     "execution_count": 2,
     "metadata": {},
     "output_type": "execute_result"
    }
   ],
   "source": [
    "import torch\n",
    "device = 'cuda' if torch.cuda.is_available() else 'cpu'\n",
    "torch.cuda.is_available()"
   ]
  },
  {
   "cell_type": "code",
   "execution_count": 1,
   "id": "8a513260",
   "metadata": {
    "scrolled": true
   },
   "outputs": [
    {
     "name": "stderr",
     "output_type": "stream",
     "text": [
      "The following encoder weights were not tied to the decoder ['bert/pooler']\n",
      "Some weights of EncoderDecoderModel were not initialized from the model checkpoint at mrm8488/bert2bert_shared-spanish-finetuned-summarization and are newly initialized: ['decoder.bert.encoder.layer.3.attention.output.LayerNorm.weight', 'decoder.bert.encoder.layer.8.attention.output.LayerNorm.bias', 'decoder.bert.encoder.layer.11.output.LayerNorm.bias', 'decoder.bert.encoder.layer.3.attention.self.value.bias', 'decoder.cls.predictions.decoder.bias', 'decoder.bert.encoder.layer.10.output.dense.bias', 'decoder.bert.encoder.layer.5.output.dense.bias', 'decoder.bert.encoder.layer.3.attention.output.dense.weight', 'decoder.bert.encoder.layer.11.attention.output.LayerNorm.bias', 'decoder.bert.encoder.layer.9.attention.output.LayerNorm.weight', 'decoder.bert.encoder.layer.0.attention.output.dense.bias', 'decoder.bert.encoder.layer.8.attention.output.dense.weight', 'decoder.bert.encoder.layer.5.output.dense.weight', 'decoder.bert.encoder.layer.6.output.LayerNorm.bias', 'decoder.bert.encoder.layer.4.intermediate.dense.weight', 'decoder.bert.encoder.layer.1.output.dense.weight', 'decoder.bert.encoder.layer.1.attention.self.value.bias', 'decoder.bert.encoder.layer.11.output.dense.bias', 'decoder.bert.encoder.layer.2.intermediate.dense.weight', 'decoder.bert.encoder.layer.10.attention.output.LayerNorm.weight', 'decoder.bert.encoder.layer.1.attention.output.LayerNorm.weight', 'decoder.bert.encoder.layer.8.attention.self.query.weight', 'decoder.bert.encoder.layer.4.attention.output.dense.bias', 'decoder.bert.encoder.layer.11.output.LayerNorm.weight', 'decoder.bert.encoder.layer.9.attention.self.key.bias', 'decoder.bert.encoder.layer.7.attention.output.LayerNorm.weight', 'decoder.bert.encoder.layer.6.intermediate.dense.bias', 'decoder.bert.encoder.layer.2.output.LayerNorm.bias', 'decoder.bert.encoder.layer.10.output.LayerNorm.bias', 'decoder.bert.encoder.layer.6.attention.output.LayerNorm.weight', 'decoder.bert.encoder.layer.3.attention.self.query.weight', 'decoder.bert.encoder.layer.6.output.LayerNorm.weight', 'decoder.bert.embeddings.LayerNorm.bias', 'decoder.bert.encoder.layer.2.attention.self.value.bias', 'decoder.bert.encoder.layer.4.output.LayerNorm.weight', 'decoder.bert.encoder.layer.7.output.dense.bias', 'decoder.bert.encoder.layer.6.attention.self.query.bias', 'decoder.bert.encoder.layer.0.attention.self.query.weight', 'decoder.bert.encoder.layer.4.attention.self.key.weight', 'decoder.bert.encoder.layer.7.output.dense.weight', 'decoder.bert.encoder.layer.9.attention.output.dense.bias', 'decoder.bert.encoder.layer.11.attention.self.key.bias', 'decoder.bert.encoder.layer.10.attention.self.key.weight', 'decoder.bert.encoder.layer.0.output.dense.weight', 'decoder.bert.encoder.layer.10.attention.self.query.bias', 'decoder.bert.encoder.layer.9.intermediate.dense.bias', 'decoder.bert.encoder.layer.8.output.dense.weight', 'decoder.bert.encoder.layer.6.output.dense.weight', 'decoder.bert.encoder.layer.8.attention.self.query.bias', 'decoder.bert.encoder.layer.4.attention.self.query.weight', 'decoder.bert.encoder.layer.7.attention.self.key.bias', 'decoder.bert.encoder.layer.0.intermediate.dense.weight', 'decoder.bert.encoder.layer.6.intermediate.dense.weight', 'decoder.bert.encoder.layer.11.attention.output.dense.bias', 'decoder.bert.encoder.layer.4.attention.self.value.weight', 'decoder.bert.encoder.layer.1.output.LayerNorm.weight', 'decoder.bert.embeddings.position_embeddings.weight', 'decoder.bert.encoder.layer.7.attention.output.dense.bias', 'decoder.bert.encoder.layer.0.output.LayerNorm.weight', 'decoder.bert.encoder.layer.5.attention.self.value.weight', 'decoder.bert.encoder.layer.5.intermediate.dense.bias', 'decoder.bert.encoder.layer.5.attention.self.key.weight', 'decoder.bert.encoder.layer.10.attention.self.key.bias', 'decoder.bert.encoder.layer.1.intermediate.dense.bias', 'decoder.bert.encoder.layer.2.attention.self.key.bias', 'decoder.bert.encoder.layer.1.attention.output.dense.bias', 'decoder.bert.encoder.layer.10.attention.self.value.weight', 'decoder.bert.encoder.layer.2.attention.self.value.weight', 'decoder.bert.encoder.layer.5.attention.self.query.weight', 'decoder.bert.encoder.layer.2.attention.self.query.bias', 'decoder.bert.encoder.layer.0.attention.self.value.bias', 'decoder.bert.encoder.layer.0.attention.output.dense.weight', 'decoder.bert.encoder.layer.6.attention.output.dense.weight', 'decoder.bert.encoder.layer.2.attention.output.LayerNorm.bias', 'decoder.bert.encoder.layer.4.attention.output.LayerNorm.bias', 'decoder.bert.encoder.layer.10.intermediate.dense.bias', 'decoder.bert.encoder.layer.7.attention.output.dense.weight', 'decoder.bert.encoder.layer.10.attention.self.query.weight', 'decoder.bert.encoder.layer.10.intermediate.dense.weight', 'decoder.bert.encoder.layer.3.attention.self.key.weight', 'decoder.bert.encoder.layer.11.attention.self.query.bias', 'decoder.bert.encoder.layer.5.attention.self.query.bias', 'decoder.bert.encoder.layer.0.output.dense.bias', 'decoder.bert.encoder.layer.1.output.dense.bias', 'decoder.cls.predictions.decoder.weight', 'decoder.bert.encoder.layer.3.intermediate.dense.bias', 'decoder.bert.encoder.layer.4.intermediate.dense.bias', 'decoder.bert.encoder.layer.7.output.LayerNorm.bias', 'decoder.bert.encoder.layer.0.attention.output.LayerNorm.weight', 'decoder.bert.encoder.layer.2.attention.self.key.weight', 'decoder.bert.encoder.layer.11.attention.output.dense.weight', 'decoder.bert.encoder.layer.0.intermediate.dense.bias', 'decoder.bert.encoder.layer.4.attention.self.query.bias', 'decoder.bert.encoder.layer.0.attention.output.LayerNorm.bias', 'decoder.bert.encoder.layer.7.intermediate.dense.weight', 'decoder.bert.encoder.layer.1.intermediate.dense.weight', 'decoder.bert.encoder.layer.9.output.dense.weight', 'decoder.bert.encoder.layer.2.output.LayerNorm.weight', 'decoder.bert.encoder.layer.9.output.dense.bias', 'decoder.bert.encoder.layer.5.output.LayerNorm.bias', 'decoder.bert.encoder.layer.6.attention.output.dense.bias', 'decoder.bert.encoder.layer.9.attention.self.value.weight', 'decoder.bert.embeddings.LayerNorm.weight', 'decoder.bert.encoder.layer.8.attention.output.LayerNorm.weight', 'decoder.bert.embeddings.word_embeddings.weight', 'decoder.bert.encoder.layer.9.attention.self.query.bias', 'decoder.bert.encoder.layer.8.intermediate.dense.weight', 'decoder.bert.encoder.layer.3.attention.output.dense.bias', 'decoder.bert.encoder.layer.11.attention.self.query.weight', 'decoder.bert.embeddings.token_type_embeddings.weight', 'decoder.bert.encoder.layer.9.attention.self.query.weight', 'decoder.bert.encoder.layer.11.intermediate.dense.weight', 'decoder.bert.encoder.layer.6.attention.self.query.weight', 'decoder.bert.encoder.layer.3.attention.output.LayerNorm.bias', 'decoder.bert.encoder.layer.4.output.dense.bias', 'decoder.bert.encoder.layer.10.output.dense.weight', 'decoder.bert.encoder.layer.7.output.LayerNorm.weight', 'decoder.bert.encoder.layer.10.attention.output.dense.weight', 'decoder.bert.encoder.layer.3.output.LayerNorm.weight', 'decoder.bert.encoder.layer.6.attention.output.LayerNorm.bias', 'decoder.bert.encoder.layer.11.attention.self.key.weight', 'decoder.bert.encoder.layer.8.attention.self.key.weight', 'decoder.bert.encoder.layer.6.output.dense.bias', 'decoder.bert.encoder.layer.6.attention.self.value.bias', 'decoder.bert.encoder.layer.7.attention.self.key.weight', 'decoder.bert.encoder.layer.5.attention.output.LayerNorm.weight', 'decoder.bert.encoder.layer.10.output.LayerNorm.weight', 'decoder.bert.encoder.layer.4.attention.self.key.bias', 'decoder.bert.encoder.layer.3.output.dense.bias', 'decoder.bert.encoder.layer.0.output.LayerNorm.bias', 'decoder.bert.encoder.layer.4.output.LayerNorm.bias', 'decoder.bert.encoder.layer.11.output.dense.weight', 'decoder.bert.encoder.layer.8.attention.self.value.weight', 'decoder.bert.encoder.layer.3.attention.self.key.bias', 'decoder.bert.encoder.layer.1.attention.self.key.bias', 'decoder.bert.encoder.layer.8.intermediate.dense.bias', 'decoder.bert.encoder.layer.5.output.LayerNorm.weight', 'decoder.bert.encoder.layer.2.attention.output.LayerNorm.weight', 'decoder.bert.encoder.layer.3.attention.self.value.weight', 'decoder.bert.encoder.layer.9.attention.self.value.bias', 'decoder.bert.encoder.layer.6.attention.self.value.weight', 'decoder.bert.encoder.layer.4.attention.output.dense.weight', 'decoder.bert.encoder.layer.8.output.LayerNorm.weight', 'decoder.bert.encoder.layer.11.attention.self.value.bias', 'decoder.bert.encoder.layer.2.intermediate.dense.bias', 'decoder.bert.encoder.layer.9.output.LayerNorm.weight', 'decoder.bert.encoder.layer.0.attention.self.key.weight', 'decoder.bert.encoder.layer.10.attention.output.dense.bias', 'decoder.bert.encoder.layer.4.output.dense.weight', 'decoder.bert.encoder.layer.8.attention.self.key.bias', 'decoder.bert.encoder.layer.8.output.dense.bias', 'decoder.bert.encoder.layer.4.attention.self.value.bias', 'decoder.bert.encoder.layer.10.attention.output.LayerNorm.bias', 'decoder.bert.encoder.layer.7.attention.output.LayerNorm.bias', 'decoder.bert.encoder.layer.5.intermediate.dense.weight', 'decoder.bert.encoder.layer.11.attention.self.value.weight', 'decoder.bert.encoder.layer.8.attention.self.value.bias', 'decoder.bert.encoder.layer.5.attention.output.dense.bias', 'decoder.bert.encoder.layer.2.attention.output.dense.bias', 'decoder.bert.encoder.layer.7.attention.self.query.weight', 'decoder.bert.encoder.layer.9.attention.output.dense.weight', 'decoder.bert.encoder.layer.6.attention.self.key.weight', 'decoder.bert.encoder.layer.3.output.dense.weight', 'decoder.bert.encoder.layer.2.attention.self.query.weight', 'decoder.bert.encoder.layer.5.attention.self.value.bias', 'decoder.bert.encoder.layer.11.intermediate.dense.bias', 'decoder.bert.encoder.layer.9.attention.output.LayerNorm.bias', 'decoder.bert.encoder.layer.8.output.LayerNorm.bias', 'decoder.bert.encoder.layer.10.attention.self.value.bias', 'decoder.bert.encoder.layer.3.intermediate.dense.weight', 'decoder.bert.encoder.layer.5.attention.self.key.bias', 'decoder.bert.encoder.layer.7.attention.self.query.bias', 'decoder.bert.encoder.layer.1.attention.output.LayerNorm.bias', 'decoder.bert.encoder.layer.2.output.dense.bias', 'decoder.bert.encoder.layer.7.attention.self.value.weight', 'decoder.bert.encoder.layer.9.intermediate.dense.weight', 'decoder.bert.encoder.layer.5.attention.output.LayerNorm.bias', 'decoder.bert.encoder.layer.6.attention.self.key.bias', 'decoder.bert.encoder.layer.2.attention.output.dense.weight', 'decoder.bert.encoder.layer.4.attention.output.LayerNorm.weight', 'decoder.bert.encoder.layer.9.output.LayerNorm.bias', 'decoder.bert.encoder.layer.1.output.LayerNorm.bias', 'decoder.bert.encoder.layer.3.output.LayerNorm.bias', 'decoder.bert.encoder.layer.0.attention.self.value.weight', 'decoder.bert.encoder.layer.1.attention.self.query.weight', 'decoder.bert.encoder.layer.8.attention.output.dense.bias', 'decoder.bert.encoder.layer.3.attention.self.query.bias', 'decoder.bert.encoder.layer.1.attention.self.query.bias', 'decoder.bert.encoder.layer.0.attention.self.query.bias', 'decoder.bert.encoder.layer.1.attention.self.value.weight', 'decoder.bert.encoder.layer.7.attention.self.value.bias', 'decoder.bert.encoder.layer.7.intermediate.dense.bias', 'decoder.bert.encoder.layer.0.attention.self.key.bias', 'decoder.bert.encoder.layer.9.attention.self.key.weight', 'decoder.bert.encoder.layer.1.attention.output.dense.weight', 'decoder.bert.encoder.layer.2.output.dense.weight', 'decoder.bert.encoder.layer.1.attention.self.key.weight', 'decoder.bert.encoder.layer.5.attention.output.dense.weight', 'decoder.bert.encoder.layer.11.attention.output.LayerNorm.weight']\n",
      "You should probably TRAIN this model on a down-stream task to be able to use it for predictions and inference.\n"
     ]
    },
    {
     "name": "stderr",
     "output_type": "stream",
     "text": [
      "The following encoder weights were not tied to the decoder ['bert/pooler']\n"
     ]
    }
   ],
   "source": [
    "from transformers import BertTokenizerFast, EncoderDecoderModel\n",
    "ckpt = 'mrm8488/bert2bert_shared-spanish-finetuned-summarization'\n",
    "tokenizer = BertTokenizerFast.from_pretrained(ckpt)\n",
    "model = EncoderDecoderModel.from_pretrained(ckpt).to(device)"
   ]
  },
  {
   "cell_type": "code",
   "execution_count": 12,
   "id": "67efcd61",
   "metadata": {
    "scrolled": false
   },
   "outputs": [
    {
     "name": "stdout",
     "output_type": "stream",
     "text": [
      "tensor([[    4,  1162,  2831,  1994,  1008,  5571, 10434,  1036,  1049,  6160,\n",
      "          1036, 23984,  2872,  1051,  1858,  1008,  1049,  2444,  1008,  1858,\n",
      "             5]], device='cuda:0')\n",
      "El expresidente de Chile participa en un encuentro en Idaho con personas de un grupo de personas\n"
     ]
    }
   ],
   "source": [
    "def generate_summary2(text):\n",
    "   inputs = tokenizer([text], padding=\"max_length\", truncation=True, max_length=512, return_tensors=\"pt\")\n",
    "   input_ids = inputs.input_ids.to(device)\n",
    "   attention_mask = inputs.attention_mask.to(device)\n",
    "   output = model.generate(input_ids, attention_mask=attention_mask)\n",
    "   print(output)\n",
    "   print(tokenizer.decode(output[0], skip_special_tokens=True))\n",
    "   \n",
    "text = \"\"\"El \"campamento\" de Sun Valley en Idaho lo organiza anualmente la firma de inversión privada Allen&Company. En distintas versiones del evento se han cerrado importantes negocios. Sin embargo, \"lo que sucede en el interior del resort sigue siendo un misterio\", indicó un medio internacional. Economía Para niños, adolescentes, tercera edad, solteros y un sinfín de grupos. También para los millonarios. Los campamentos de verano son un panorama “clásico” para los ciudadanos de Estados Unidos y hasta ahí llegó el expresidente de Chile, Sebastián Piñera, para participar de uno -Sun Valley- que reunió a personas de ese último grupo. El campamento tuvo este 2023 su versión número 38; y su objetivo fue compartir experiencias en el ámbito de los negocios y tertulias sobre la economía, en un resort que tiene habitaciones de lujo, spa, salas de cine y otras comodidades, según detalló diario El País. “Inspiradora experiencia en Sun Valley” El expresidente Piñera fue uno de los participantes de esta última versión de Sun Valley, que comenzó el 12 de julio. De acuerdo a medios extranjeros, también asistieron Bill Gates de Microsoft; el fundador de Meta, Mark Zuckerberg; el director ejecutivo de Walt Disney Company, Bob Iger; entre otros ejecutivos. De hecho, el exmandatario compartió fotos en la instancia con los dos primeros; y detalló que también dialogó con “Jeff Bezos de Amazon; Sundar Pichai de Google, Marcos Galperin de Mercado Libre y Sam Altman de Chat GPT y muchos más”. Las imágenes muestran que viajó a la actividad junto a su esposa, Cecilia Morel.  En su publicación en la red social, Piñera calificó la experiencia como “inspiradora” y señaló -a propósito de su foto con Zuckerberg- que ya tiene una cuenta en Threads. El “campamento” de Sun Valley en Idaho lo organiza anualmente la firma de inversión privada Allen&Company. Según El País, en el evento se han cerrado importantes negocios, como -por ejemplo- “la compra de NBC Universal por parte de Comecast”. “Lo que sucede en el interior del resort, sin embargo, sigue siendo un misterio. Además de escuchar conferencias y participar en mesas redondas sobre política, tecnología o economía, los asistentes también son invitados a relajarse con diversas actividades recreativas, que van desde las largas caminatas por las montañas hasta golf”, indicó también el citado medio.\"\"\"\n",
    "generate_summary2(text)"
   ]
  },
  {
   "cell_type": "code",
   "execution_count": 8,
   "id": "aea9063d",
   "metadata": {},
   "outputs": [
    {
     "name": "stderr",
     "output_type": "stream",
     "text": [
      "The following encoder weights were not tied to the decoder ['bert/pooler']\n",
      "The following encoder weights were not tied to the decoder ['bert/pooler']\n",
      "The following encoder weights were not tied to the decoder ['bert/pooler']\n"
     ]
    }
   ],
   "source": [
    "import torch\n",
    "from transformers import BertTokenizerFast, EncoderDecoderModel\n",
    "device = 'cuda' if torch.cuda.is_available() else 'cpu'\n",
    "ckpt = 'mrm8488/bert2bert_shared-spanish-finetuned-summarization'\n",
    "tokenizer = BertTokenizerFast.from_pretrained(ckpt)\n",
    "model = EncoderDecoderModel.from_pretrained(ckpt).to(device)\n",
    "\n",
    "def generate_summary(text):\n",
    "   inputs = tokenizer([text], padding=\"max_length\", truncation=True, max_length=512, return_tensors=\"pt\")\n",
    "   input_ids = inputs.input_ids.to(device)\n",
    "   attention_mask = inputs.attention_mask.to(device)\n",
    "   output = model.generate(input_ids, attention_mask=attention_mask)\n",
    "   return tokenizer.decode(output[0], skip_special_tokens=True)"
   ]
  },
  {
   "cell_type": "code",
   "execution_count": 13,
   "id": "83bdd9d3",
   "metadata": {},
   "outputs": [
    {
     "data": {
      "text/plain": [
       "'cuda'"
      ]
     },
     "execution_count": 13,
     "metadata": {},
     "output_type": "execute_result"
    }
   ],
   "source": [
    "device"
   ]
  },
  {
   "cell_type": "code",
   "execution_count": 14,
   "id": "9a497fae",
   "metadata": {},
   "outputs": [
    {
     "data": {
      "text/plain": [
       "'Radio Bío Bío está recorriendo diversas comunas de la capital, verificando que la situación es de normalidad'"
      ]
     },
     "execution_count": 14,
     "metadata": {},
     "output_type": "execute_result"
    }
   ],
   "source": [
    "text = \"\"\"\n",
    "Pese a los rumores de un posible paro de conductores, ante las agresiones sufridas por la prohibición de abrir las puertas traseras para facilitar la evasión, este lunes los buses RED circulan con normalidad por la región Metropolitana. Región Metropolitana Con normalidad circulan los buses del sistema RED en la región Metropolitana, luego que durante los últimos días circularan versiones de un supuesto paro de conductores por las medidas antievasión. Todo esto se nace de las denuncias de agresiones sufridas por conductores, luego que el Ministerio de Transportes anunciara que multará a las empresas cuyos trabajadores abran las puertas traseras para permitir el no pago del pasaje. Por ello, por redes sociales circularon rumores de que este lunes, martes y miércoles los conductores realizarían una paralización en protesta por dicha medida. Sin embargo, este lunes Radio Bío Bío está recorriendo diversas comunas de la capital, verificando que la situación es de normalidad. Lo mismo reportaron auditores de La Radio, quienes indicaron que la circulación de buses es la que corresponde para la primera hora de la mañana. \n",
    "\"\"\"\n",
    "\n",
    "generate_summary(text[512:512*2])\n"
   ]
  },
  {
   "cell_type": "code",
   "execution_count": 1,
   "id": "e12bd1ce",
   "metadata": {},
   "outputs": [
    {
     "data": {
      "application/vnd.jupyter.widget-view+json": {
       "model_id": "1ca78115b7ba4dfc9f231c4cc1aaf70d",
       "version_major": 2,
       "version_minor": 0
      },
      "text/plain": [
       "Downloading (…)lve/main/config.json:   0%|          | 0.00/466 [00:00<?, ?B/s]"
      ]
     },
     "metadata": {},
     "output_type": "display_data"
    },
    {
     "ename": "ValueError",
     "evalue": "Unrecognized configuration class <class 'transformers.models.distilbert.configuration_distilbert.DistilBertConfig'> for this kind of AutoModel: AutoModelForSeq2SeqLM.\nModel type should be one of BartConfig, BigBirdPegasusConfig, BlenderbotConfig, BlenderbotSmallConfig, EncoderDecoderConfig, FSMTConfig, GPTSanJapaneseConfig, LEDConfig, LongT5Config, M2M100Config, MarianConfig, MBartConfig, MT5Config, MvpConfig, NllbMoeConfig, PegasusConfig, PegasusXConfig, PLBartConfig, ProphetNetConfig, SwitchTransformersConfig, T5Config, UMT5Config, XLMProphetNetConfig.",
     "output_type": "error",
     "traceback": [
      "\u001b[0;31m---------------------------------------------------------------------------\u001b[0m",
      "\u001b[0;31mValueError\u001b[0m                                Traceback (most recent call last)",
      "Cell \u001b[0;32mIn[1], line 35\u001b[0m\n\u001b[1;32m     31\u001b[0m \u001b[38;5;28;01mif\u001b[39;00m \u001b[38;5;18m__name__\u001b[39m \u001b[38;5;241m==\u001b[39m \u001b[38;5;124m\"\u001b[39m\u001b[38;5;124m__main__\u001b[39m\u001b[38;5;124m\"\u001b[39m:\n\u001b[1;32m     32\u001b[0m   text \u001b[38;5;241m=\u001b[39m \u001b[38;5;124m\"\"\"\u001b[39m\n\u001b[1;32m     33\u001b[0m \u001b[38;5;124m  El Gato con Botas es un cuento popular español. Cuenta la historia de un gato que, con su astucia, consigue que un molinero y sus tres hijos se hagan ricos. El gato convence al molinero de que lo cambie por sus tres mulas. Luego, el gato se hace pasar por un noble marqués y convence a un rey de que le dé un castillo y una princesa. El gato finalmente se casa con la princesa y vive feliz para siempre.\u001b[39m\n\u001b[1;32m     34\u001b[0m \u001b[38;5;124m  \u001b[39m\u001b[38;5;124m\"\"\"\u001b[39m\n\u001b[0;32m---> 35\u001b[0m   summary \u001b[38;5;241m=\u001b[39m \u001b[43mgenerate_summary\u001b[49m\u001b[43m(\u001b[49m\u001b[43mtext\u001b[49m\u001b[43m)\u001b[49m\n\u001b[1;32m     36\u001b[0m   \u001b[38;5;28mprint\u001b[39m(summary)\n",
      "Cell \u001b[0;32mIn[1], line 5\u001b[0m, in \u001b[0;36mgenerate_summary\u001b[0;34m(text)\u001b[0m\n\u001b[1;32m      3\u001b[0m \u001b[38;5;28;01mdef\u001b[39;00m \u001b[38;5;21mgenerate_summary\u001b[39m(text):\n\u001b[1;32m      4\u001b[0m \u001b[38;5;250m  \u001b[39m\u001b[38;5;124;03m\"\"\"Generates a bullet point summary of the given text in Spanish.\"\"\"\u001b[39;00m\n\u001b[0;32m----> 5\u001b[0m   model \u001b[38;5;241m=\u001b[39m \u001b[43mtransformers\u001b[49m\u001b[38;5;241;43m.\u001b[39;49m\u001b[43mAutoModelForSeq2SeqLM\u001b[49m\u001b[38;5;241;43m.\u001b[39;49m\u001b[43mfrom_pretrained\u001b[49m\u001b[43m(\u001b[49m\u001b[38;5;124;43m\"\u001b[39;49m\u001b[38;5;124;43mdistilbert-base-multilingual-cased\u001b[39;49m\u001b[38;5;124;43m\"\u001b[39;49m\u001b[43m)\u001b[49m\n\u001b[1;32m      6\u001b[0m   tokenizer \u001b[38;5;241m=\u001b[39m transformers\u001b[38;5;241m.\u001b[39mAutoTokenizer\u001b[38;5;241m.\u001b[39mfrom_pretrained(\u001b[38;5;124m\"\u001b[39m\u001b[38;5;124mdistilbert-base-multilingual-cased\u001b[39m\u001b[38;5;124m\"\u001b[39m)\n\u001b[1;32m      8\u001b[0m   \u001b[38;5;66;03m# Encode the text\u001b[39;00m\n",
      "File \u001b[0;32m~/anaconda3/envs/test-env/lib/python3.8/site-packages/transformers/models/auto/auto_factory.py:496\u001b[0m, in \u001b[0;36m_BaseAutoModelClass.from_pretrained\u001b[0;34m(cls, pretrained_model_name_or_path, *model_args, **kwargs)\u001b[0m\n\u001b[1;32m    492\u001b[0m     model_class \u001b[38;5;241m=\u001b[39m _get_model_class(config, \u001b[38;5;28mcls\u001b[39m\u001b[38;5;241m.\u001b[39m_model_mapping)\n\u001b[1;32m    493\u001b[0m     \u001b[38;5;28;01mreturn\u001b[39;00m model_class\u001b[38;5;241m.\u001b[39mfrom_pretrained(\n\u001b[1;32m    494\u001b[0m         pretrained_model_name_or_path, \u001b[38;5;241m*\u001b[39mmodel_args, config\u001b[38;5;241m=\u001b[39mconfig, \u001b[38;5;241m*\u001b[39m\u001b[38;5;241m*\u001b[39mhub_kwargs, \u001b[38;5;241m*\u001b[39m\u001b[38;5;241m*\u001b[39mkwargs\n\u001b[1;32m    495\u001b[0m     )\n\u001b[0;32m--> 496\u001b[0m \u001b[38;5;28;01mraise\u001b[39;00m \u001b[38;5;167;01mValueError\u001b[39;00m(\n\u001b[1;32m    497\u001b[0m     \u001b[38;5;124mf\u001b[39m\u001b[38;5;124m\"\u001b[39m\u001b[38;5;124mUnrecognized configuration class \u001b[39m\u001b[38;5;132;01m{\u001b[39;00mconfig\u001b[38;5;241m.\u001b[39m\u001b[38;5;18m__class__\u001b[39m\u001b[38;5;132;01m}\u001b[39;00m\u001b[38;5;124m for this kind of AutoModel: \u001b[39m\u001b[38;5;132;01m{\u001b[39;00m\u001b[38;5;28mcls\u001b[39m\u001b[38;5;241m.\u001b[39m\u001b[38;5;18m__name__\u001b[39m\u001b[38;5;132;01m}\u001b[39;00m\u001b[38;5;124m.\u001b[39m\u001b[38;5;130;01m\\n\u001b[39;00m\u001b[38;5;124m\"\u001b[39m\n\u001b[1;32m    498\u001b[0m     \u001b[38;5;124mf\u001b[39m\u001b[38;5;124m\"\u001b[39m\u001b[38;5;124mModel type should be one of \u001b[39m\u001b[38;5;132;01m{\u001b[39;00m\u001b[38;5;124m'\u001b[39m\u001b[38;5;124m, \u001b[39m\u001b[38;5;124m'\u001b[39m\u001b[38;5;241m.\u001b[39mjoin(c\u001b[38;5;241m.\u001b[39m\u001b[38;5;18m__name__\u001b[39m\u001b[38;5;250m \u001b[39m\u001b[38;5;28;01mfor\u001b[39;00m\u001b[38;5;250m \u001b[39mc\u001b[38;5;250m \u001b[39m\u001b[38;5;129;01min\u001b[39;00m\u001b[38;5;250m \u001b[39m\u001b[38;5;28mcls\u001b[39m\u001b[38;5;241m.\u001b[39m_model_mapping\u001b[38;5;241m.\u001b[39mkeys())\u001b[38;5;132;01m}\u001b[39;00m\u001b[38;5;124m.\u001b[39m\u001b[38;5;124m\"\u001b[39m\n\u001b[1;32m    499\u001b[0m )\n",
      "\u001b[0;31mValueError\u001b[0m: Unrecognized configuration class <class 'transformers.models.distilbert.configuration_distilbert.DistilBertConfig'> for this kind of AutoModel: AutoModelForSeq2SeqLM.\nModel type should be one of BartConfig, BigBirdPegasusConfig, BlenderbotConfig, BlenderbotSmallConfig, EncoderDecoderConfig, FSMTConfig, GPTSanJapaneseConfig, LEDConfig, LongT5Config, M2M100Config, MarianConfig, MBartConfig, MT5Config, MvpConfig, NllbMoeConfig, PegasusConfig, PegasusXConfig, PLBartConfig, ProphetNetConfig, SwitchTransformersConfig, T5Config, UMT5Config, XLMProphetNetConfig."
     ]
    }
   ],
   "source": [
    "import transformers\n",
    "\n",
    "def generate_summary(text):\n",
    "  \"\"\"Generates a bullet point summary of the given text in Spanish.\"\"\"\n",
    "  model = transformers.AutoModelForSeq2SeqLM.from_pretrained(\"distilbert-base-multilingual-cased\")\n",
    "  tokenizer = transformers.AutoTokenizer.from_pretrained(\"distilbert-base-multilingual-cased\")\n",
    "\n",
    "  # Encode the text\n",
    "  encoded_input = tokenizer(text=text, return_tensors=\"pt\")\n",
    "\n",
    "  # Generate the summary\n",
    "  summary_tokens = model.generate(\n",
    "      input_ids=encoded_input[\"input_ids\"],\n",
    "      max_length=100,\n",
    "      do_sample=True,\n",
    "      top_k=10,\n",
    "      temperature=0.7,\n",
    "      repetition_penalty=1.0,\n",
    "      pad_token_id=tokenizer.pad_token_id,\n",
    "      return_tensors=\"pt\"\n",
    "  )\n",
    "\n",
    "  # Decode the summary tokens\n",
    "  summary_text = tokenizer.decode(summary_tokens, skip_special_tokens=True)\n",
    "\n",
    "  # Split the summary text into bullet points\n",
    "  summary_bullets = summary_text.split(\".\")\n",
    "\n",
    "  return summary_bullets\n",
    "\n",
    "if __name__ == \"__main__\":\n",
    "  text = \"\"\"\n",
    "  El Gato con Botas es un cuento popular español. Cuenta la historia de un gato que, con su astucia, consigue que un molinero y sus tres hijos se hagan ricos. El gato convence al molinero de que lo cambie por sus tres mulas. Luego, el gato se hace pasar por un noble marqués y convence a un rey de que le dé un castillo y una princesa. El gato finalmente se casa con la princesa y vive feliz para siempre.\n",
    "  \"\"\"\n",
    "  summary = generate_summary(text)\n",
    "  print(summary)\n"
   ]
  },
  {
   "cell_type": "code",
   "execution_count": 1,
   "id": "418547cd",
   "metadata": {},
   "outputs": [],
   "source": [
    "text = \"\"\"¿Qué piezas usar? El nuevo presidente de la Cámara de Diputados agarró las blancas y jugó primero. A semanas de cumplirse 50 años del Golpe de Estado, Ricardo Cifuentes (DC) convocó a una cita entre bancadas para definir la actividad que realizarán el 11/S. ¿Feriado, minuto de silencio o nada? Eso está por verse, pero lo cierto es que al profesor de historia no le basta con mover un solo peón. Esta partida, tan reflexiva como una de ajedrez, podría marcar el legado de la Democracia Cristiana en la testera. Nacional El adiós de Patricio Fernández a La Moneda, la medalla a Baltasar Garzón y la infructuosa invitación de Gabriel Boric a firmar una carta son parte de los hitos que han copado los titulares en la previa a los 50 años del Golpe de Estado. Lejos de poner en relieve las polémicas, estas acciones grafican la realidad: no hay una mirada unívoca respecto a lo ocurrido la mañana del 11 de septiembre de 1973. En el caso de la Cámara, son 155 diputados y 22 partidos los que comparten la misma sala, dándose la mano o estallando en gritos dependiendo de la discusión. Sin embargo, ante un hecho histórico de tal magnitud como el quiebre de la democracia, ¿qué tipo de conmemoración deberían impulsar en conjunto? “Uno no esperaría una posición recatada, sino un evento que sirva para reconocer la memoria histórica de lo que significan estos 50 años”, señala Mario Herrera, investigador del Centro de Análisis Político (CEP) de la Universidad de Talca. Una visión más crítica tiene Cristián Pérez, historiador de la Escuela de Periodismo de la Universidad Diego Portales. “La Cámara tiene un deber moral de condenar el acuerdo que tomó el 22 de agosto de 1973, que declaró ilegítimo e ilegal al gobierno de Allende”, sostiene. Esto ya lo sabe Ricardo Cifuentes, parlamentario de la DC que el pasado lunes tocó por primera vez la campana de la Cámara como presidente. De manera anecdótica, el último en hacerla sonar antes de que Augusto Pinochet cerrara el Congreso fue Luis Pareto, también representante de la Falange. El profesor de historia ya citó a una reunión de bancadas para debatir qué acto realizarán el 11/S, pero hasta ahora ha asumido una actitud cauta. “No están los tiempos, está muy verde todavía para poder desarrollarlo”, indicó esta semana. La derecha y la izquierda ya apuestan por sus propias tácticas, por lo que Cifuentes deberá empezar a mover las piezas si quiere sobrevivir a esta partida. Su historia política y la compañía de Carmen Hertz (PC) en la mesa directiva podrían marcar jugadas claves en este tablero de ajedrez. Ricardo Cifuentes: el peso de “los 13” sobre sus hombros Dos días después de que los aviones Hawker Hunter de la Fuerza Aérea de Chile (FACh) bombardearan La Moneda, un grupo de militantes de la DC se reunió en la casa del abogado Bernardo Leighton, donde se redactaría un documento histórico con 13 firmas en lápiz azul. Pese a que la directiva del partido, encabezada por el entonces senador Patricio Aylwin, justificó el término del gobierno de la Unidad Popular, la “carta de los 13” le garantizó sus credenciales democráticas durante el período de transición. Uno de sus miembros fue Renán Fuentealba, fundador de la Falange, quien falleció en 2021 tras haber cumplido 104 años. El abogado tuvo tres hijos, pero su “ahijado” político fue Ricardo Cifuentes, presidente de la Cámara de Diputados. “Ha sido en mi vida un maestro. Aprendí a trabajar y las cuestiones más básicas de la política con él”, revela el congresista. Cifuentes tuvo un paso por Bélgica en plena dictadura y retornó a inicios de la década de 1990 de la mano de Fuentealba, quien se desempeñaba como intendente de la región de Coquimbo. A su lado, lideró durante siete años la Secretaría Regional de Planificación y Coordinación, actual Seremi de Desarrollo Social. “Tenía un criterio político muy fino. Él no te decía ‘mira niño, haz esta cosa así’, sino que enseñaba con la actitud. Era una persona muy humilde”, detalla. Cuando restan 44 días para conmemorarse medio siglo del Golpe, este vínculo comienza a pesar en los hombros del parlamentario, aunque él prefiere catalogarlo como “un honor”. De acuerdo a Raúl Burgos, académico del Instituto de Historia de la Pontificia Universidad Católica de Valparaíso, los 50 años podrían servir a Ricardo Cifuentes para “plantearse como un interlocutor válido ante distintos sectores de la sociedad. Su figura ofrece una oposición transversal”. No obstante, el nuevo timonel de la Cámara ha optado por la mesura ante la conmemoración de este hito. “Sigue siendo una fecha que, desgraciadamente, termina dividiendo a los chilenos”, asegura el demócrata cristiano, quien compartió terna con Alberto Undurraga y Eric Aedo para asumir como presidente. Este último, quien además es jefe de bancada de la DC, descartó que Cifuentes fuera escogido por su relación con Renán Fuentealba. “Si fuese por temas de Derechos Humanos, podría haber sido mi nombre por mi familia asesinada a manos de las CNI, así que no fue ese el elemento principal para tomar la decisión”, afirma el diputado Aedo. Por otra parte, se dio el tiempo de defender a los expresidentes Patricio Aylwin y Eduardo Frei Montalva, quienes tuvieron una afinidad inicial con el Golpe de Estado. “Ellos jugaron un rol el año 73, pero fueron capaces de hacer una reflexión respecto de los errores políticos que cometieron distintos actores y obviamente ellos. Nunca se debe renunciar a reflexionar y corregir las cosas en que nos equivocamos”, opina. Los movimientos en el tablero de la Cámara Al mover primero Cifuentes, ahora es el turno de las piezas negras. Desde el Partido Comunista optaron por las torres, que se desplazan de manera frontal, y plantearon sin rodeos un homenaje al derrocado Salvador Allende. La diputada Lorena Pizarro (PC), expresidenta de la Agrupación de Familiares de Detenidos Desaparecidos, asevera que “tirar la basura debajo de la alfombra no resulta. ¿Queremos buscar consensos que relativicen la condena al Golpe de Estado cívico-militar? Eso no puede ser”. En ese sentido, señala que el Congreso fue una de las primeras víctimas del dictador Augusto Pinochet, quien promulgó el decreto que hizo oficial su disolución el 21 de septiembre de 1973. A pesar de ello, el académico Cristián Pérez pide a la Cámara “no lavarse las manos”, ya que 20 días antes de la ofensiva militar concretó su propio “golpe blanco” tras deslegitimar al gobierno de la UP. “Esto no es un mero punto, porque en el Bando N°5 de la Junta Militar se aducen estos elementos para haber dado el Golpe”, explica. La oposición también se sienta frente al tablero y escoge a los alfiles, que tienen permitido avanzar de manera diagonal. En vez de ir al choque a través de otras piezas, prefieren resguardar la línea defensiva ante la división que representan los 50 años. El diputado Frank Sauerbaum (RN) deslizó que sería prudente no tener una posición oficial en la Cámara. “Peor sería que hiciéramos un acto y una parte del Congreso no asista. La polarización se evidenciaría mucho más”, dijo. En tanto, parlamentarios de la UDI propusieron sumar un vigésimo feriado al calendario 2023. Álvaro Carter y Christian Labbé, hijo de un exagente de la Dirección de Inteligencia Nacional (DINA), interpretan que el 11/S debe ser utilizado por las personas para “manifestarse libremente”. Al ver cómo juegan sus colegas, el presidente de la Cámara podría convertirse en árbitro de la partida. ¿Hacia qué lado girar? La próxima semana continuarían las conversaciones entre las diferentes bancadas, pero el cronómetro no se detiene para Ricardo Cifuentes. Según el analista Mario Herrera, la DC tiene un problema de identidad. “No se sienten parte de la oposición, porque no pueden dialogar con Republicanos, la UDI y RN, pero tampoco se sienten parte del Gobierno al decidir estar por fuera”, puntualiza. A pesar de la prudencia de Cifuentes, al interior de la Democracia Cristiana no se cierran a acordar mínimos comunes para conmemorar los 50 años del Golpe de Estado de manera conjunta. “Yo creo que hay que hacer una actividad. Esta Cámara de Diputados jugó un rol, para bien o para mal, hace 50 años atrás. Le corresponde reflexionar qué sucedió para llegar a un quiebre democrático”, sostiene el diputado Eric Aedo. Ahora, ¿hasta qué punto llegar? La condena a la violación de los Derechos Humanos parece ser el piso. DC/PC: la mesa que podría afirmarse con los 50 años “La decisión de la bancada es no concurrir con sus votos a la elección de un militante del Partido Comunista”, disparaba Aedo el 28 de octubre de 2022, cerrando la puerta a la presidencia de Karol Cariola en la Cámara. Nueve meses después, ambas colectividades se dieron la mano para liderar la mesa directiva, poniendo a Ricardo Cifuentes y Carmen Hertz ante los flashes. Aun así, la diputada Lorena Pizarro no olvida el conflicto que terminó en el ascenso de Vlado Mirosevic (PL). “Lo que ocurrió en la elección pasada fue muy desagradable y no corresponde. Espero que de eso se haya aprendido, porque los compromisos son muy importantes”, apunta. ¿Podrán los 50 años afianzar el vínculo entre la Falange y el PC? Las primeras miradas se posan sobre Hertz, quien sufrió directamente las consecuencias de la dictadura tras el brutal asesinato de su pareja y hoy se levanta como primera vicepresidenta de la Cámara. “Tenemos la obligación de hacer memoria, dar a conocer la verdad colectiva y, de esa manera, entregar garantías de no repetición”, afirmó la abogada de 78 años al asumir su cargo el pasado lunes. Ante ello, Mario Herrera advierte que “la vicepresidenta tiene fuerza política y ha formado parte históricamente de los movimientos de Derechos Humanos. El riesgo para Cifuentes es que, por tratar de crear un sentido de conciliación, pueda terminar Carmen Hertz con un discurso más contestatario y copando la agenda”. Sin embargo, Eric Aedo detalla que una eventual presidencia demócrata cristiana estaba atada a un nombre del PC. “El mensaje es que, a 50 años del quiebre democrático, de esa confrontación que tuvo la DC con el Partido Comunista, es posible tener diálogo y buena fe”, asegura. Esta opinión es compartida por la diputada Daniella Cicardini (PS), quien completa la testera bajo el cargo de segunda vicepresidenta. “Asumimos este rol con mucha seriedad para dar todas las garantías de conducción ecuánime. La conmemoración de los 50 años es una oportunidad para aquello”, declara. “Las expresiones muchas veces están polarizadas, pero tenemos que ser capaces de tender los puentes con las distintas miradas para sacar adelante una actividad que nos una a todos”, agrega la socialista. De acuerdo al último estudio Data Influye, de la consultora TúInfluyes, un 58% de los encuestados cree que Chile seguirá “igual que siempre” tras el próximo 11 de septiembre. Lo que no pasará inadvertido es la postura que asuma Ricardo Cifuentes ante la conmemoración de los 50 años del Golpe, que se desarrollará 49 días después de haber pronunciado su primer discurso como líder de la Cámara. En el ajedrez se gana tumbando al rey del oponente a través de un jaque mate. Además, existen otras posibilidades como un abandono del rival o que este se quede sin tiempo para mover sus piezas. Más allá de las analogías, este caso no se resuelve con una victoria de la Democracia Cristiana sobre los demás partidos políticos, sino todo lo contrario: dando vuelta el tablero, una y otra vez, hasta que todos queden en tablas.\"\"\""
   ]
  },
  {
   "cell_type": "code",
   "execution_count": null,
   "id": "e73f1c45",
   "metadata": {},
   "outputs": [],
   "source": []
  },
  {
   "cell_type": "code",
   "execution_count": 3,
   "id": "fce9e986",
   "metadata": {},
   "outputs": [
    {
     "ename": "RateLimitError",
     "evalue": "You exceeded your current quota, please check your plan and billing details.",
     "output_type": "error",
     "traceback": [
      "\u001b[0;31m---------------------------------------------------------------------------\u001b[0m",
      "\u001b[0;31mRateLimitError\u001b[0m                            Traceback (most recent call last)",
      "Cell \u001b[0;32mIn[3], line 5\u001b[0m\n\u001b[1;32m      1\u001b[0m \u001b[38;5;28;01mimport\u001b[39;00m \u001b[38;5;21;01mopenai\u001b[39;00m\n\u001b[1;32m      3\u001b[0m openai\u001b[38;5;241m.\u001b[39mapi_key \u001b[38;5;241m=\u001b[39m apikey\n\u001b[0;32m----> 5\u001b[0m response \u001b[38;5;241m=\u001b[39m \u001b[43mopenai\u001b[49m\u001b[38;5;241;43m.\u001b[39;49m\u001b[43mChatCompletion\u001b[49m\u001b[38;5;241;43m.\u001b[39;49m\u001b[43mcreate\u001b[49m\u001b[43m(\u001b[49m\n\u001b[1;32m      6\u001b[0m \u001b[43m  \u001b[49m\u001b[43mmodel\u001b[49m\u001b[38;5;241;43m=\u001b[39;49m\u001b[38;5;124;43m\"\u001b[39;49m\u001b[38;5;124;43mgpt-3.5-turbo\u001b[39;49m\u001b[38;5;124;43m\"\u001b[39;49m\u001b[43m,\u001b[49m\n\u001b[1;32m      7\u001b[0m \u001b[43m  \u001b[49m\u001b[43mmessages\u001b[49m\u001b[38;5;241;43m=\u001b[39;49m\u001b[43m[\u001b[49m\u001b[38;5;124;43m\"\u001b[39;49m\u001b[38;5;124;43mResume la siguiente noticia en 3 puntos principales: \u001b[39;49m\u001b[38;5;124;43m\"\u001b[39;49m\u001b[43m \u001b[49m\u001b[38;5;241;43m+\u001b[39;49m\u001b[43m \u001b[49m\u001b[43mtext\u001b[49m\u001b[43m]\u001b[49m\u001b[43m,\u001b[49m\n\u001b[1;32m      8\u001b[0m \u001b[43m  \u001b[49m\u001b[43mtemperature\u001b[49m\u001b[38;5;241;43m=\u001b[39;49m\u001b[38;5;241;43m0\u001b[39;49m\u001b[43m,\u001b[49m\n\u001b[1;32m      9\u001b[0m \u001b[43m  \u001b[49m\u001b[43mmax_tokens\u001b[49m\u001b[38;5;241;43m=\u001b[39;49m\u001b[38;5;241;43m4092\u001b[39;49m\n\u001b[1;32m     10\u001b[0m \u001b[43m)\u001b[49m\n",
      "File \u001b[0;32m~/anaconda3/envs/test-env/lib/python3.8/site-packages/openai/api_resources/chat_completion.py:25\u001b[0m, in \u001b[0;36mChatCompletion.create\u001b[0;34m(cls, *args, **kwargs)\u001b[0m\n\u001b[1;32m     23\u001b[0m \u001b[38;5;28;01mwhile\u001b[39;00m \u001b[38;5;28;01mTrue\u001b[39;00m:\n\u001b[1;32m     24\u001b[0m     \u001b[38;5;28;01mtry\u001b[39;00m:\n\u001b[0;32m---> 25\u001b[0m         \u001b[38;5;28;01mreturn\u001b[39;00m \u001b[38;5;28;43msuper\u001b[39;49m\u001b[43m(\u001b[49m\u001b[43m)\u001b[49m\u001b[38;5;241;43m.\u001b[39;49m\u001b[43mcreate\u001b[49m\u001b[43m(\u001b[49m\u001b[38;5;241;43m*\u001b[39;49m\u001b[43margs\u001b[49m\u001b[43m,\u001b[49m\u001b[43m \u001b[49m\u001b[38;5;241;43m*\u001b[39;49m\u001b[38;5;241;43m*\u001b[39;49m\u001b[43mkwargs\u001b[49m\u001b[43m)\u001b[49m\n\u001b[1;32m     26\u001b[0m     \u001b[38;5;28;01mexcept\u001b[39;00m TryAgain \u001b[38;5;28;01mas\u001b[39;00m e:\n\u001b[1;32m     27\u001b[0m         \u001b[38;5;28;01mif\u001b[39;00m timeout \u001b[38;5;129;01mis\u001b[39;00m \u001b[38;5;129;01mnot\u001b[39;00m \u001b[38;5;28;01mNone\u001b[39;00m \u001b[38;5;129;01mand\u001b[39;00m time\u001b[38;5;241m.\u001b[39mtime() \u001b[38;5;241m>\u001b[39m start \u001b[38;5;241m+\u001b[39m timeout:\n",
      "File \u001b[0;32m~/anaconda3/envs/test-env/lib/python3.8/site-packages/openai/api_resources/abstract/engine_api_resource.py:153\u001b[0m, in \u001b[0;36mEngineAPIResource.create\u001b[0;34m(cls, api_key, api_base, api_type, request_id, api_version, organization, **params)\u001b[0m\n\u001b[1;32m    127\u001b[0m \u001b[38;5;129m@classmethod\u001b[39m\n\u001b[1;32m    128\u001b[0m \u001b[38;5;28;01mdef\u001b[39;00m \u001b[38;5;21mcreate\u001b[39m(\n\u001b[1;32m    129\u001b[0m     \u001b[38;5;28mcls\u001b[39m,\n\u001b[0;32m   (...)\u001b[0m\n\u001b[1;32m    136\u001b[0m     \u001b[38;5;241m*\u001b[39m\u001b[38;5;241m*\u001b[39mparams,\n\u001b[1;32m    137\u001b[0m ):\n\u001b[1;32m    138\u001b[0m     (\n\u001b[1;32m    139\u001b[0m         deployment_id,\n\u001b[1;32m    140\u001b[0m         engine,\n\u001b[0;32m   (...)\u001b[0m\n\u001b[1;32m    150\u001b[0m         api_key, api_base, api_type, api_version, organization, \u001b[38;5;241m*\u001b[39m\u001b[38;5;241m*\u001b[39mparams\n\u001b[1;32m    151\u001b[0m     )\n\u001b[0;32m--> 153\u001b[0m     response, _, api_key \u001b[38;5;241m=\u001b[39m \u001b[43mrequestor\u001b[49m\u001b[38;5;241;43m.\u001b[39;49m\u001b[43mrequest\u001b[49m\u001b[43m(\u001b[49m\n\u001b[1;32m    154\u001b[0m \u001b[43m        \u001b[49m\u001b[38;5;124;43m\"\u001b[39;49m\u001b[38;5;124;43mpost\u001b[39;49m\u001b[38;5;124;43m\"\u001b[39;49m\u001b[43m,\u001b[49m\n\u001b[1;32m    155\u001b[0m \u001b[43m        \u001b[49m\u001b[43murl\u001b[49m\u001b[43m,\u001b[49m\n\u001b[1;32m    156\u001b[0m \u001b[43m        \u001b[49m\u001b[43mparams\u001b[49m\u001b[38;5;241;43m=\u001b[39;49m\u001b[43mparams\u001b[49m\u001b[43m,\u001b[49m\n\u001b[1;32m    157\u001b[0m \u001b[43m        \u001b[49m\u001b[43mheaders\u001b[49m\u001b[38;5;241;43m=\u001b[39;49m\u001b[43mheaders\u001b[49m\u001b[43m,\u001b[49m\n\u001b[1;32m    158\u001b[0m \u001b[43m        \u001b[49m\u001b[43mstream\u001b[49m\u001b[38;5;241;43m=\u001b[39;49m\u001b[43mstream\u001b[49m\u001b[43m,\u001b[49m\n\u001b[1;32m    159\u001b[0m \u001b[43m        \u001b[49m\u001b[43mrequest_id\u001b[49m\u001b[38;5;241;43m=\u001b[39;49m\u001b[43mrequest_id\u001b[49m\u001b[43m,\u001b[49m\n\u001b[1;32m    160\u001b[0m \u001b[43m        \u001b[49m\u001b[43mrequest_timeout\u001b[49m\u001b[38;5;241;43m=\u001b[39;49m\u001b[43mrequest_timeout\u001b[49m\u001b[43m,\u001b[49m\n\u001b[1;32m    161\u001b[0m \u001b[43m    \u001b[49m\u001b[43m)\u001b[49m\n\u001b[1;32m    163\u001b[0m     \u001b[38;5;28;01mif\u001b[39;00m stream:\n\u001b[1;32m    164\u001b[0m         \u001b[38;5;66;03m# must be an iterator\u001b[39;00m\n\u001b[1;32m    165\u001b[0m         \u001b[38;5;28;01massert\u001b[39;00m \u001b[38;5;129;01mnot\u001b[39;00m \u001b[38;5;28misinstance\u001b[39m(response, OpenAIResponse)\n",
      "File \u001b[0;32m~/anaconda3/envs/test-env/lib/python3.8/site-packages/openai/api_requestor.py:298\u001b[0m, in \u001b[0;36mAPIRequestor.request\u001b[0;34m(self, method, url, params, headers, files, stream, request_id, request_timeout)\u001b[0m\n\u001b[1;32m    277\u001b[0m \u001b[38;5;28;01mdef\u001b[39;00m \u001b[38;5;21mrequest\u001b[39m(\n\u001b[1;32m    278\u001b[0m     \u001b[38;5;28mself\u001b[39m,\n\u001b[1;32m    279\u001b[0m     method,\n\u001b[0;32m   (...)\u001b[0m\n\u001b[1;32m    286\u001b[0m     request_timeout: Optional[Union[\u001b[38;5;28mfloat\u001b[39m, Tuple[\u001b[38;5;28mfloat\u001b[39m, \u001b[38;5;28mfloat\u001b[39m]]] \u001b[38;5;241m=\u001b[39m \u001b[38;5;28;01mNone\u001b[39;00m,\n\u001b[1;32m    287\u001b[0m ) \u001b[38;5;241m-\u001b[39m\u001b[38;5;241m>\u001b[39m Tuple[Union[OpenAIResponse, Iterator[OpenAIResponse]], \u001b[38;5;28mbool\u001b[39m, \u001b[38;5;28mstr\u001b[39m]:\n\u001b[1;32m    288\u001b[0m     result \u001b[38;5;241m=\u001b[39m \u001b[38;5;28mself\u001b[39m\u001b[38;5;241m.\u001b[39mrequest_raw(\n\u001b[1;32m    289\u001b[0m         method\u001b[38;5;241m.\u001b[39mlower(),\n\u001b[1;32m    290\u001b[0m         url,\n\u001b[0;32m   (...)\u001b[0m\n\u001b[1;32m    296\u001b[0m         request_timeout\u001b[38;5;241m=\u001b[39mrequest_timeout,\n\u001b[1;32m    297\u001b[0m     )\n\u001b[0;32m--> 298\u001b[0m     resp, got_stream \u001b[38;5;241m=\u001b[39m \u001b[38;5;28;43mself\u001b[39;49m\u001b[38;5;241;43m.\u001b[39;49m\u001b[43m_interpret_response\u001b[49m\u001b[43m(\u001b[49m\u001b[43mresult\u001b[49m\u001b[43m,\u001b[49m\u001b[43m \u001b[49m\u001b[43mstream\u001b[49m\u001b[43m)\u001b[49m\n\u001b[1;32m    299\u001b[0m     \u001b[38;5;28;01mreturn\u001b[39;00m resp, got_stream, \u001b[38;5;28mself\u001b[39m\u001b[38;5;241m.\u001b[39mapi_key\n",
      "File \u001b[0;32m~/anaconda3/envs/test-env/lib/python3.8/site-packages/openai/api_requestor.py:700\u001b[0m, in \u001b[0;36mAPIRequestor._interpret_response\u001b[0;34m(self, result, stream)\u001b[0m\n\u001b[1;32m    692\u001b[0m     \u001b[38;5;28;01mreturn\u001b[39;00m (\n\u001b[1;32m    693\u001b[0m         \u001b[38;5;28mself\u001b[39m\u001b[38;5;241m.\u001b[39m_interpret_response_line(\n\u001b[1;32m    694\u001b[0m             line, result\u001b[38;5;241m.\u001b[39mstatus_code, result\u001b[38;5;241m.\u001b[39mheaders, stream\u001b[38;5;241m=\u001b[39m\u001b[38;5;28;01mTrue\u001b[39;00m\n\u001b[1;32m    695\u001b[0m         )\n\u001b[1;32m    696\u001b[0m         \u001b[38;5;28;01mfor\u001b[39;00m line \u001b[38;5;129;01min\u001b[39;00m parse_stream(result\u001b[38;5;241m.\u001b[39miter_lines())\n\u001b[1;32m    697\u001b[0m     ), \u001b[38;5;28;01mTrue\u001b[39;00m\n\u001b[1;32m    698\u001b[0m \u001b[38;5;28;01melse\u001b[39;00m:\n\u001b[1;32m    699\u001b[0m     \u001b[38;5;28;01mreturn\u001b[39;00m (\n\u001b[0;32m--> 700\u001b[0m         \u001b[38;5;28;43mself\u001b[39;49m\u001b[38;5;241;43m.\u001b[39;49m\u001b[43m_interpret_response_line\u001b[49m\u001b[43m(\u001b[49m\n\u001b[1;32m    701\u001b[0m \u001b[43m            \u001b[49m\u001b[43mresult\u001b[49m\u001b[38;5;241;43m.\u001b[39;49m\u001b[43mcontent\u001b[49m\u001b[38;5;241;43m.\u001b[39;49m\u001b[43mdecode\u001b[49m\u001b[43m(\u001b[49m\u001b[38;5;124;43m\"\u001b[39;49m\u001b[38;5;124;43mutf-8\u001b[39;49m\u001b[38;5;124;43m\"\u001b[39;49m\u001b[43m)\u001b[49m\u001b[43m,\u001b[49m\n\u001b[1;32m    702\u001b[0m \u001b[43m            \u001b[49m\u001b[43mresult\u001b[49m\u001b[38;5;241;43m.\u001b[39;49m\u001b[43mstatus_code\u001b[49m\u001b[43m,\u001b[49m\n\u001b[1;32m    703\u001b[0m \u001b[43m            \u001b[49m\u001b[43mresult\u001b[49m\u001b[38;5;241;43m.\u001b[39;49m\u001b[43mheaders\u001b[49m\u001b[43m,\u001b[49m\n\u001b[1;32m    704\u001b[0m \u001b[43m            \u001b[49m\u001b[43mstream\u001b[49m\u001b[38;5;241;43m=\u001b[39;49m\u001b[38;5;28;43;01mFalse\u001b[39;49;00m\u001b[43m,\u001b[49m\n\u001b[1;32m    705\u001b[0m \u001b[43m        \u001b[49m\u001b[43m)\u001b[49m,\n\u001b[1;32m    706\u001b[0m         \u001b[38;5;28;01mFalse\u001b[39;00m,\n\u001b[1;32m    707\u001b[0m     )\n",
      "File \u001b[0;32m~/anaconda3/envs/test-env/lib/python3.8/site-packages/openai/api_requestor.py:763\u001b[0m, in \u001b[0;36mAPIRequestor._interpret_response_line\u001b[0;34m(self, rbody, rcode, rheaders, stream)\u001b[0m\n\u001b[1;32m    761\u001b[0m stream_error \u001b[38;5;241m=\u001b[39m stream \u001b[38;5;129;01mand\u001b[39;00m \u001b[38;5;124m\"\u001b[39m\u001b[38;5;124merror\u001b[39m\u001b[38;5;124m\"\u001b[39m \u001b[38;5;129;01min\u001b[39;00m resp\u001b[38;5;241m.\u001b[39mdata\n\u001b[1;32m    762\u001b[0m \u001b[38;5;28;01mif\u001b[39;00m stream_error \u001b[38;5;129;01mor\u001b[39;00m \u001b[38;5;129;01mnot\u001b[39;00m \u001b[38;5;241m200\u001b[39m \u001b[38;5;241m<\u001b[39m\u001b[38;5;241m=\u001b[39m rcode \u001b[38;5;241m<\u001b[39m \u001b[38;5;241m300\u001b[39m:\n\u001b[0;32m--> 763\u001b[0m     \u001b[38;5;28;01mraise\u001b[39;00m \u001b[38;5;28mself\u001b[39m\u001b[38;5;241m.\u001b[39mhandle_error_response(\n\u001b[1;32m    764\u001b[0m         rbody, rcode, resp\u001b[38;5;241m.\u001b[39mdata, rheaders, stream_error\u001b[38;5;241m=\u001b[39mstream_error\n\u001b[1;32m    765\u001b[0m     )\n\u001b[1;32m    766\u001b[0m \u001b[38;5;28;01mreturn\u001b[39;00m resp\n",
      "\u001b[0;31mRateLimitError\u001b[0m: You exceeded your current quota, please check your plan and billing details."
     ]
    }
   ],
   "source": [
    "import openai\n",
    "\n",
    "openai.api_key = apikey\n",
    "\n",
    "response = openai.ChatCompletion.create(\n",
    "  model=\"gpt-3.5-turbo\",\n",
    "  messages=[\"Resume la siguiente noticia en 3 puntos principales: \" + text],\n",
    "  temperature=0,\n",
    "  max_tokens=4092\n",
    ")"
   ]
  }
 ],
 "metadata": {
  "kernelspec": {
   "display_name": "Python 3 (ipykernel)",
   "language": "python",
   "name": "python3"
  },
  "language_info": {
   "codemirror_mode": {
    "name": "ipython",
    "version": 3
   },
   "file_extension": ".py",
   "mimetype": "text/x-python",
   "name": "python",
   "nbconvert_exporter": "python",
   "pygments_lexer": "ipython3",
   "version": "3.8.16"
  }
 },
 "nbformat": 4,
 "nbformat_minor": 5
}
